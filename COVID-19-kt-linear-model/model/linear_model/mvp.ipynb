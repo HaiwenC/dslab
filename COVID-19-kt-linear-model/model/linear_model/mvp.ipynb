{
 "cells": [
  {
   "cell_type": "code",
   "execution_count": 8,
   "metadata": {},
   "outputs": [],
   "source": [
    "# store start time to get execution time of entire script\n",
    "import time\n",
    "start_time = time.time()"
   ]
  },
  {
   "cell_type": "code",
   "execution_count": 9,
   "metadata": {},
   "outputs": [],
   "source": [
    "import numpy as np\n",
    "import sys\n",
    "\n",
    "# look at two countries\n",
    "\n",
    "N = [1000, 10000]\n",
    "I_delta_n = [\n",
    "  [0, 10, 20, 30, 40, 50, 60, 70, 80, 90, 100], \n",
    "  [1, 50, 100, 150, 200, 250, 300, 350, 400, 450, 500]\n",
    "]\n",
    "S_n = [\n",
    "  [1000, 990, 980, 970, 960, 950, 940, 930, 920, 910, 900], \n",
    "  [1000, 990, 980, 970, 960, 950, 940, 930, 920, 910, 900]]\n",
    "k = 3 # use most recent 3 weeks to predict\n",
    "h = len(S_n[0]) - k # use up till most recent 3 weeks to train\n",
    "travel_between_countries = 100 # eventually should be a function that gets travel between countries\n",
    "gamma = 1 # is this a hyperparameter?\n",
    "beta = np.zeros((len(N), k))\n",
    "mse = [sys.maxsize] * len(N)"
   ]
  },
  {
   "cell_type": "code",
   "execution_count": 10,
   "metadata": {},
   "outputs": [],
   "source": [
    "# implements Ajitesh's recurrence relations\n",
    "def multiSI(t, p, beta_p):\n",
    "    S_delta_pred = 0\n",
    "    S_delta_pred -= S_n[p][t-1] / N[p]\n",
    "    temp = 0\n",
    "    for i in range(k):\n",
    "        temp += beta_p[i] * I_delta_n[p][t-i-1]\n",
    "    S_delta_pred *= temp\n",
    "    S_pred = S_n[p][t-1] + S_delta_pred\n",
    "    \n",
    "    I_delta_pred = 0\n",
    "    I_delta_pred += S_n[p][t-1] / N[p]\n",
    "    temp = 0\n",
    "    for i in range(k):\n",
    "        temp += beta_p[i] * I_delta_n[p][t-i-1]\n",
    "    I_delta_pred *= temp\n",
    "    travel = 0\n",
    "    for c in range(len(N)):\n",
    "        temp = 0\n",
    "        if c != p:\n",
    "            temp = 0\n",
    "            for i in range(k):\n",
    "                temp += beta[c][i] * I_delta_n[c][t-i-1]\n",
    "            temp *= travel_between_countries / N[c]\n",
    "        travel += temp\n",
    "    travel *= gamma\n",
    "    I_delta_pred += travel\n",
    "    return S_pred, I_delta_pred"
   ]
  },
  {
   "cell_type": "code",
   "execution_count": 11,
   "metadata": {},
   "outputs": [],
   "source": [
    "def residuals(beta_i, ground_truth, t):\n",
    "    return ground_truth - multiSI(t, beta_i)"
   ]
  },
  {
   "cell_type": "code",
   "execution_count": 12,
   "metadata": {},
   "outputs": [
    {
     "data": {
      "text/plain": [
       "'from scipy.optimize import leastsq\\n\\ns = np.arange(0.0, 1.0, 0.01)\\nvariables = list(itertools.combinations(s, k)) \\nout = leastsq(objective, variables, args=(x, data, eps_data))'"
      ]
     },
     "execution_count": 12,
     "metadata": {},
     "output_type": "execute_result"
    }
   ],
   "source": [
    "\"\"\"from scipy.optimize import leastsq\n",
    "\n",
    "s = np.arange(0.0, 1.0, 0.01)\n",
    "variables = list(itertools.combinations(s, k)) \n",
    "out = leastsq(objective, variables, args=(x, data, eps_data))\"\"\""
   ]
  },
  {
   "cell_type": "code",
   "execution_count": null,
   "metadata": {},
   "outputs": [],
   "source": [
    "%%time\n",
    "\n",
    "from sklearn.metrics import mean_squared_error \n",
    "import itertools\n",
    "import pandas as pd\n",
    "import swifter\n",
    "\n",
    "s = np.arange(0.0, 1.0, 0.01)\n",
    "betavec = list(itertools.combinations(s, k)) \n",
    "\n",
    "data = list(range(len(N)))\n",
    "\n",
    "regions = pd.DataFrame(data, columns=['region'])\n",
    "\n",
    "def learn(region):\n",
    "    for beta_i in betavec: # try every permutation of beta probabilities\n",
    "        S_preds = []\n",
    "        I_delta_preds = []\n",
<<<<<<< HEAD
    "        # print(\"k:\",k,\"k+h:\",(k+h))\n",
    "        for t in range(k, k+h-1): # predict for each timestamp up to h\n",
    "            # print(t)\n",
=======
    "        for t in range(k, k + h): # predict for each timestamp up to h\n",
>>>>>>> c48a322015b77cdabeb000a4b1799be7a9b252fa
    "            S_pred, I_delta_pred = multiSI(t, region, beta_i)\n",
    "            S_preds.append(S_pred)\n",
    "            I_delta_preds.append(I_delta_pred)\n",
    "        mserr_I = mean_squared_error(I_delta_preds, I_delta_n[region][k:k+h]) # get error\n",
    "        if (mserr_I < mse[region]): # if error is lower than best known, replace\n",
    "            print(mserr_I,\"<\",mse[region])\n",
    "            mse[region] = mserr_I\n",
    "            beta[region] = beta_i\n",
    "\n",
    "regions.swifter.apply(lambda row : learn(row['region']), axis=1) # perform analysis at each region\n",
    "            \n",
    "print(beta)"
   ]
  },
  {
   "cell_type": "code",
   "execution_count": null,
   "metadata": {},
   "outputs": [],
   "source": [
    "# print out total notebook execution time\n",
    "total_seconds = int(time.time() - start_time)\n",
    "minutes = total_seconds // 60\n",
    "seconds = total_seconds % 60\n",
    "print(\"--- \" + str(minutes) + \" minutes \" + str(seconds) + \" seconds ---\")"
   ]
  }
 ],
 "metadata": {
  "kernelspec": {
   "display_name": "Python 3",
   "language": "python",
   "name": "python3"
  },
  "language_info": {
   "codemirror_mode": {
    "name": "ipython",
    "version": 3
   },
   "file_extension": ".py",
   "mimetype": "text/x-python",
   "name": "python",
   "nbconvert_exporter": "python",
   "pygments_lexer": "ipython3",
   "version": "3.7.4"
  }
 },
 "nbformat": 4,
 "nbformat_minor": 2
}
